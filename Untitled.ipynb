{
 "cells": [
  {
   "cell_type": "code",
   "execution_count": 1,
   "id": "d128e76f",
   "metadata": {},
   "outputs": [],
   "source": [
    "import requests\n",
    "from bs4 import BeautifulSoup"
   ]
  },
  {
   "cell_type": "code",
   "execution_count": 2,
   "id": "59d81565",
   "metadata": {},
   "outputs": [],
   "source": [
    "url = 'https://www.boxymo.ie/news/most-expensive-cars-in-the-world.aspx'"
   ]
  },
  {
   "cell_type": "code",
   "execution_count": 5,
   "id": "5804f6af",
   "metadata": {},
   "outputs": [
    {
     "name": "stdout",
     "output_type": "stream",
     "text": [
      "The 10 most expensive cars in the world: \n",
      "1. Koenigsegg CCXR Trevita ($4.8M)\n",
      "2. Lamborghini Veneno ($4.5M)\n",
      "3. W Motors Lykan Hypersport ($3.4M)\n",
      "4. Mansory Vivere Bugatti Veyron ($3.4M)\n",
      "5. Ferrari F60 America ($2.5M)\n",
      "6. Koenigsegg One:1 ($2.0M)\n",
      "7. Aston Martin One-77 ($1.4M)\n",
      "8. Pagani Huayra ($1.4M)\n",
      "9. Ferrari LaFerrari ($1.4M)\n",
      "10. Zenvo ST1 ($1.2M)\n"
     ]
    }
   ],
   "source": [
    "a = requests.get(url)\n",
    "soup = BeautifulSoup(a.content, 'html.parser')\n",
    "\n",
    "price = soup.findAll('p', class_='panel-title-boxymo-black device-font')\n",
    "price1 = [pt.get_text() for pt in price]\n",
    "\n",
    "sorted_price = sorted(price1, key=lambda x : int(x.split('.')[0]))\n",
    "print(\"The 10 most expensive cars in the world: \")\n",
    "\n",
    "for car_name in sorted_price:\n",
    "    print(car_name)"
   ]
  },
  {
   "cell_type": "code",
   "execution_count": null,
   "id": "127e4cc5",
   "metadata": {},
   "outputs": [],
   "source": []
  }
 ],
 "metadata": {
  "kernelspec": {
   "display_name": "Python 3 (ipykernel)",
   "language": "python",
   "name": "python3"
  },
  "language_info": {
   "codemirror_mode": {
    "name": "ipython",
    "version": 3
   },
   "file_extension": ".py",
   "mimetype": "text/x-python",
   "name": "python",
   "nbconvert_exporter": "python",
   "pygments_lexer": "ipython3",
   "version": "3.9.13"
  }
 },
 "nbformat": 4,
 "nbformat_minor": 5
}
